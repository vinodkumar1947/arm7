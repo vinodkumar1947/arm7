{
  "nbformat": 4,
  "nbformat_minor": 0,
  "metadata": {
    "colab": {
      "name": "DataTypes.ipynb",
      "provenance": [],
      "collapsed_sections": [],
      "authorship_tag": "ABX9TyPRvQ0a+Q5aAOU4K7kcZqXu",
      "include_colab_link": true
    },
    "kernelspec": {
      "name": "python3",
      "display_name": "Python 3"
    }
  },
  "cells": [
    {
      "cell_type": "markdown",
      "metadata": {
        "id": "view-in-github",
        "colab_type": "text"
      },
      "source": [
        "<a href=\"https://colab.research.google.com/github/vinodkumar1947/arm7/blob/master/DataTypes.ipynb\" target=\"_parent\"><img src=\"https://colab.research.google.com/assets/colab-badge.svg\" alt=\"Open In Colab\"/></a>"
      ]
    },
    {
      "cell_type": "markdown",
      "metadata": {
        "id": "2XD1fkNvuGne",
        "colab_type": "text"
      },
      "source": [
        "**# Python Data types**\n",
        "\n",
        "Numaric\n",
        "\n",
        "> integer\n",
        "\n",
        "> Float\n",
        "\n",
        "> complex\n",
        "\n",
        "boolean\n",
        "\n",
        "set\n",
        "\n",
        "dictionary\n",
        "\n",
        "Sequence type\n",
        "\n",
        "> Strings\n",
        "\n",
        "> List\n",
        "\n",
        "> Tuple\n",
        "\n",
        "\n",
        "\n",
        "\n",
        "\n",
        "\n",
        "\n",
        "\n",
        "\n",
        "\n",
        "\n",
        "\n",
        "\n",
        "\n"
      ]
    },
    {
      "cell_type": "markdown",
      "metadata": {
        "id": "0UotP4xDvhlk",
        "colab_type": "text"
      },
      "source": [
        "**Numaric Data types**"
      ]
    },
    {
      "cell_type": "code",
      "metadata": {
        "id": "FqIG9tmhvpjW",
        "colab_type": "code",
        "colab": {
          "base_uri": "https://localhost:8080/",
          "height": 69
        },
        "outputId": "78014e0c-a6bf-4c18-d5a9-73c791f1d953"
      },
      "source": [
        "# integers\n",
        "a = 10\n",
        "b = 20\n",
        "c = 30\n",
        "\n",
        "print(\"a = %d address=%d type=%s\" %(a,id(a),type(a)))\n",
        "print(\"b = %d address=%d type=%s\" %(b,id(b),type(b)))\n",
        "print(\"c = %d address=%d type=%s\" %(c,id(c),type(c)))\n",
        "\n",
        "#pooling"
      ],
      "execution_count": 3,
      "outputs": [
        {
          "output_type": "stream",
          "text": [
            "a = 10 address=10914784 type=<class 'int'>\n",
            "b = 20 address=10915104 type=<class 'int'>\n",
            "c = 30 address=10915424 type=<class 'int'>\n"
          ],
          "name": "stdout"
        }
      ]
    },
    {
      "cell_type": "markdown",
      "metadata": {
        "id": "dnVEAK32xGOQ",
        "colab_type": "text"
      },
      "source": [
        "# Integer pooling\n",
        "To fasten allocation and de-allocation of memory to ingeters, python uses dedicated memory pool for integers between -5 to +256."
      ]
    },
    {
      "cell_type": "code",
      "metadata": {
        "id": "89E50_JTxNWt",
        "colab_type": "code",
        "colab": {
          "base_uri": "https://localhost:8080/",
          "height": 208
        },
        "outputId": "70a672b6-ebed-4937-dd4f-3ce18f8f2d01"
      },
      "source": [
        "#when integer values are different the corresponding addresses also different\n",
        "a = 10\n",
        "b = 20\n",
        "c = 30\n",
        "\n",
        "print(\"a = %d address=%d type=%s\" %(a,id(a),type(a)))\n",
        "print(\"b = %d address=%d type=%s\" %(b,id(b),type(b)))\n",
        "print(\"c = %d address=%d type=%s \\n\" %(c,id(c),type(c)))\n",
        "\n",
        "#when integer values are same (in -5 to _256) the corresponding addresses are same\n",
        "b = 10\n",
        "c = 10\n",
        "print(\"int pooling - a = %d address=%d type=%s\" %(a,id(a),type(a)))\n",
        "print(\"int pooling - b = %d address=%d type=%s\" %(b,id(b),type(b)))\n",
        "print(\"int pooling - c = %d address=%d type=%s \\n\" %(c,id(c),type(c)))\n",
        "\n",
        "#when integer values are same (not in -5 to _256) the corresponding addresses are different\n",
        "a = 10000\n",
        "b = 10000\n",
        "c = 10000\n",
        "print(\"out of int pooling - a = %d address=%d type=%s\" %(a,id(a),type(a)))\n",
        "print(\"out of int pooling - b = %d address=%d type=%s\" %(b,id(b),type(b)))\n",
        "print(\"out of int pooling - c = %d address=%d type=%s\" %(c,id(c),type(c)))"
      ],
      "execution_count": 13,
      "outputs": [
        {
          "output_type": "stream",
          "text": [
            "a = 10 address=10914784 type=<class 'int'>\n",
            "b = 20 address=10915104 type=<class 'int'>\n",
            "c = 30 address=10915424 type=<class 'int'> \n",
            "\n",
            "int pooling - a = 10 address=10914784 type=<class 'int'>\n",
            "int pooling - b = 10 address=10914784 type=<class 'int'>\n",
            "int pooling - c = 10 address=10914784 type=<class 'int'> \n",
            "\n",
            "out of int pooling - a = 10000 address=140005471689328 type=<class 'int'>\n",
            "out of int pooling - b = 10000 address=140005471690544 type=<class 'int'>\n",
            "out of int pooling - c = 10000 address=140005471690576 type=<class 'int'>\n"
          ],
          "name": "stdout"
        }
      ]
    },
    {
      "cell_type": "markdown",
      "metadata": {
        "id": "GyyIF1rrwQA1",
        "colab_type": "text"
      },
      "source": [
        "# input from console"
      ]
    },
    {
      "cell_type": "code",
      "metadata": {
        "id": "Wj1xMVa4wUUv",
        "colab_type": "code",
        "colab": {
          "base_uri": "https://localhost:8080/",
          "height": 86
        },
        "outputId": "dd7e74c4-f020-4dfa-c36e-afad2a46ba8b"
      },
      "source": [
        "#input function return value is a string\n",
        "a = input(\"enter the value of a\")\n",
        "print(\"a= {} address= {} type= {}\".format(a,id(a),type(a)))\n",
        "\n",
        "#convert to int\n",
        "a = int(input(\"enter the value of a\"))\n",
        "print(\"a= {} address= {} type= {}\".format(a,id(a),type(a)))\n"
      ],
      "execution_count": 7,
      "outputs": [
        {
          "output_type": "stream",
          "text": [
            "enter the value of a10\n",
            "a= 10 address= 140005461640392 type= <class 'str'>\n",
            "enter the value of a10\n",
            "a= 10 address= 10914784 type= <class 'int'>\n"
          ],
          "name": "stdout"
        }
      ]
    }
  ]
}